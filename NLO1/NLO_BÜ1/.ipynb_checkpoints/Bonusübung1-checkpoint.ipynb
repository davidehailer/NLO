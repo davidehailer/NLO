{
 "cells": [
  {
   "cell_type": "markdown",
   "metadata": {},
   "source": [
    "# Programmieraufgaben zur 1. Sonderübung\n",
    "## Aufgabe 1 f\n",
    "#### Hintergrund und Daten:\n",
    "\n",
    "Wir werden die in Aufgabe 1 a und 1 c definierten Modelle auf den Datensatz <i>WorldPopulation.csv</i> anwenden. In diesem Datensatz befinden sich die jährliche Angabe der Weltbevölkerung von 1800 bis 2020."
   ]
  },
  {
   "cell_type": "markdown",
   "metadata": {},
   "source": [
    "Wir laden zunächst den Datensatz mithilfe von <i>pandas</i>."
   ]
  },
  {
   "cell_type": "code",
   "execution_count": 8,
   "metadata": {},
   "outputs": [
    {
     "data": {
      "text/html": [
       "<div>\n",
       "<style scoped>\n",
       "    .dataframe tbody tr th:only-of-type {\n",
       "        vertical-align: middle;\n",
       "    }\n",
       "\n",
       "    .dataframe tbody tr th {\n",
       "        vertical-align: top;\n",
       "    }\n",
       "\n",
       "    .dataframe thead th {\n",
       "        text-align: right;\n",
       "    }\n",
       "</style>\n",
       "<table border=\"1\" class=\"dataframe\">\n",
       "  <thead>\n",
       "    <tr style=\"text-align: right;\">\n",
       "      <th></th>\n",
       "      <th>Year</th>\n",
       "      <th>Population</th>\n",
       "    </tr>\n",
       "  </thead>\n",
       "  <tbody>\n",
       "    <tr>\n",
       "      <th>216</th>\n",
       "      <td>2016.0</td>\n",
       "      <td>7.417009e+09</td>\n",
       "    </tr>\n",
       "    <tr>\n",
       "      <th>217</th>\n",
       "      <td>2017.0</td>\n",
       "      <td>7.510123e+09</td>\n",
       "    </tr>\n",
       "    <tr>\n",
       "      <th>218</th>\n",
       "      <td>2018.0</td>\n",
       "      <td>7.590388e+09</td>\n",
       "    </tr>\n",
       "    <tr>\n",
       "      <th>219</th>\n",
       "      <td>2019.0</td>\n",
       "      <td>7.674427e+09</td>\n",
       "    </tr>\n",
       "    <tr>\n",
       "      <th>220</th>\n",
       "      <td>2020.0</td>\n",
       "      <td>7.756509e+09</td>\n",
       "    </tr>\n",
       "  </tbody>\n",
       "</table>\n",
       "</div>"
      ],
      "text/plain": [
       "       Year    Population\n",
       "216  2016.0  7.417009e+09\n",
       "217  2017.0  7.510123e+09\n",
       "218  2018.0  7.590388e+09\n",
       "219  2019.0  7.674427e+09\n",
       "220  2020.0  7.756509e+09"
      ]
     },
     "execution_count": 8,
     "metadata": {},
     "output_type": "execute_result"
    }
   ],
   "source": [
    "import pandas as pd\n",
    "import numpy as np\n",
    "import time\n",
    "df = pd.read_csv('WorldPopulation.csv', sep=\",\", index_col=0)\n",
    "df.tail()"
   ]
  },
  {
   "cell_type": "markdown",
   "metadata": {},
   "source": [
    "Für die weitere Bearbeitung speichern wir die Spalten als <i>numpy-Vektoren</i> ab."
   ]
  },
  {
   "cell_type": "code",
   "execution_count": 2,
   "metadata": {},
   "outputs": [],
   "source": [
    "import numpy as np\n",
    "\n",
    "x = df.iloc[:,0].to_numpy()\n",
    "y = df.iloc[:,1].to_numpy()"
   ]
  },
  {
   "cell_type": "markdown",
   "metadata": {},
   "source": [
    "Im Vektor x stehen die Jahreszahlen und im Vektor y die absolute Weltbevölkerung."
   ]
  },
  {
   "cell_type": "markdown",
   "metadata": {},
   "source": [
    "Berechnen Sie die Lösung von $LS_a$ auf diesem Datensatz und geben Sie die gefundenen Parameter aus. (1 Punkt)  "
   ]
  },
  {
   "cell_type": "code",
   "execution_count": 3,
   "metadata": {},
   "outputs": [],
   "source": [
    "X = np.ones((221,2))\n",
    "for i in range(221):\n",
    "    X[i,1] = x[i]\n",
    "b_log = np.linalg.inv(np.transpose(X) @ (X)) @ (np.transpose(X) @ np.log(y))"
   ]
  },
  {
   "cell_type": "code",
   "execution_count": 4,
   "metadata": {},
   "outputs": [
    {
     "data": {
      "text/plain": [
       "array([43.87661805,  1.00930858])"
      ]
     },
     "execution_count": 4,
     "metadata": {},
     "output_type": "execute_result"
    }
   ],
   "source": [
    "b = np.e ** (b_log)\n",
    "b"
   ]
  },
  {
   "cell_type": "markdown",
   "metadata": {},
   "source": [
    "Plotten Sie den realen Datensatz und die exponentielle Kurve, die durch die berechneten Parameter definiert wird, in eine Abbildung. (1 Punkt)"
   ]
  },
  {
   "cell_type": "code",
   "execution_count": 5,
   "metadata": {},
   "outputs": [],
   "source": [
    "from matplotlib import pyplot as plt"
   ]
  },
  {
   "cell_type": "code",
   "execution_count": 6,
   "metadata": {},
   "outputs": [
    {
     "data": {
      "image/png": "[encoded data removed]",
      "text/plain": [
       "<Figure size 432x288 with 1 Axes>"
      ]
     },
     "metadata": {
      "needs_background": "light"
     },
     "output_type": "display_data"
    }
   ],
   "source": [
    "x_p1 = np.linspace(1800,2020,10000)\n",
    "plt.plot(x_p1,b[0] * b[1] ** (x_p1))\n",
    "plt.scatter(x,y, s = 0.1)\n",
    "plt.show()"
   ]
  },
  {
   "cell_type": "markdown",
   "metadata": {},
   "source": [
    "Berechnen Sie die Lösung von $LS_b$ auf diesem Datensatz und geben Sie die gefundenen Parameter aus. (1 Punkte) "
   ]
  },
  {
   "cell_type": "code",
   "execution_count": 7,
   "metadata": {},
   "outputs": [
    {
     "data": {
      "text/plain": [
       "array([2.27884023e+69, 8.57113842e-01, 1.00004279e+00])"
      ]
     },
     "execution_count": 7,
     "metadata": {},
     "output_type": "execute_result"
    }
   ],
   "source": [
    "x_2 = x**2\n",
    "X_b = np.ones((221,3))\n",
    "for i in range (221):\n",
    "    X_b[i,1] = x[i]\n",
    "    X_b[i,2] = x_2[i]\n",
    "###b berechnen\n",
    "b_log2 = np.linalg.inv(np.transpose(X_b) @ (X_b)) @ (np.transpose(X_b) @ np.log(y))\n",
    "b_2 = np.e ** (b_log2)\n",
    "b_2"
   ]
  },
  {
   "cell_type": "markdown",
   "metadata": {},
   "source": [
    "Plotten Sie den realen Datensatz und die exponentielle Kurve, die durch die berechneten Parameter definiert wird, in eine Abbildung. (1 Punkt)"
   ]
  },
  {
   "cell_type": "code",
   "execution_count": 8,
   "metadata": {},
   "outputs": [
    {
     "data": {
      "image/png": "[encoded data removed]",
      "text/plain": [
       "<Figure size 432x288 with 1 Axes>"
      ]
     },
     "metadata": {
      "needs_background": "light"
     },
     "output_type": "display_data"
    }
   ],
   "source": [
    "x_p1 = np.linspace(1800,2020,10000)\n",
    "plt.plot(x_p1,b_2[0] * b_2[1] ** (x_p1) * b_2[2]** (x_p1**2))\n",
    "plt.scatter(x,y, s = 0.1)\n",
    "plt.show()"
   ]
  },
  {
   "cell_type": "markdown",
   "metadata": {},
   "source": [
    "## Aufgabe 2 b\n",
    "#### Der Datensatz"
   ]
  },
  {
   "cell_type": "markdown",
   "metadata": {},
   "source": [
    "Für diese Aufgabe sind die Dateien\n",
    "\n",
    "- <i>Standort_Messdaten.npz</i>\n",
    "- <i>plot_Standort.py</i>\n",
    "\n",
    "relevant. Sie können die Problemdatn mit dem Befehl"
   ]
  },
  {
   "cell_type": "code",
   "execution_count": 9,
   "metadata": {},
   "outputs": [],
   "source": [
    "data = np.load('Standort_Messdaten.npz')\n",
    "S = data['S']\n",
    "u = data['u']"
   ]
  },
  {
   "cell_type": "markdown",
   "metadata": {},
   "source": [
    "laden. In den Spalten der $2\\times 5$-Matrix $S$ stehen die Standorte $s^1,...,s^5\\in\\mathbb{R}^2$ der fünf Sensoren und $u\\in\\mathbb{R}^5$ ist der Vektor der fehlerbehafteten Abstandsmessungen der fünf Sensoren. "
   ]
  },
  {
   "cell_type": "markdown",
   "metadata": {},
   "source": [
    "#### Ergebnis plotten"
   ]
  },
  {
   "cell_type": "markdown",
   "metadata": {},
   "source": [
    "Die Python-Datei <b>plot_Standort.py</b> kann mit"
   ]
  },
  {
   "cell_type": "code",
   "execution_count": 10,
   "metadata": {},
   "outputs": [],
   "source": [
    "from plot_Standort import *"
   ]
  },
  {
   "cell_type": "markdown",
   "metadata": {},
   "source": [
    "eingebunden werden. Eine beispielhafte Schätzung des Standortes der Quelle $x_{prediction}=(-10,-10)^\\intercal$ kann dann mit dem Befehl"
   ]
  },
  {
   "cell_type": "code",
   "execution_count": 11,
   "metadata": {},
   "outputs": [
    {
     "data": {
      "image/png": "[encoded data removed]",
      "text/plain": [
       "<Figure size 936x936 with 1 Axes>"
      ]
     },
     "metadata": {
      "needs_background": "light"
     },
     "output_type": "display_data"
    }
   ],
   "source": [
    "x_pred = np.array([-10, -10]) \n",
    "plot_Standort(x_pred, S, u)"
   ]
  },
  {
   "cell_type": "markdown",
   "metadata": {},
   "source": [
    "visualisiert werden. In diesem Plot werden außerdem die Standorte der Sensoren sowie deren fehlerbehaftete Abstandsmessungen dargestellt. "
   ]
  },
  {
   "cell_type": "markdown",
   "metadata": {},
   "source": [
    "Im Folgenden wird knapp beschrieben, welche Funktionen Sie implementieren müssen."
   ]
  },
  {
   "cell_type": "markdown",
   "metadata": {},
   "source": [
    "### Zielfunktion"
   ]
  },
  {
   "cell_type": "markdown",
   "metadata": {},
   "source": [
    "Diese Funktionen sollen für ein beliebiges $x\\in\\mathbb{R}^2$ und Parameter $S\\in\\mathbb{R}^{2\\times 5}$ und $u\\in\\mathbb{R}^5$ den Zielfunktionswert $h(x)$ (<b>h_val</b>) und den Gradienten $\\nabla h(x)$ (<b>h_grad</b>) zurückgeben."
   ]
  },
  {
   "cell_type": "code",
   "execution_count": 12,
   "metadata": {},
   "outputs": [],
   "source": [
    "def h_value(x, S, u):\n",
    "    \n",
    "    \"\"\" objective function in source location problem\n",
    "    \n",
    "    Parameters\n",
    "    ----------\n",
    "    \n",
    "    x: ndarray, shape (2,)\n",
    "        Input argument to h (variable)\n",
    "        \n",
    "    S: ndarray, shape (2,5)\n",
    "        nxm-matrix of sensor locations\n",
    "        one column for each sensor (data)\n",
    "    \n",
    "    u: ndarray, shape (5,)\n",
    "        m-dim. vector of distances (data)\n",
    "        \n",
    "    Returns\n",
    "    -------\n",
    "    \n",
    "    value: float\n",
    "        function value of h at x\n",
    "    \n",
    "    \"\"\"\n",
    "    \n",
    "    # Ergänzen Sie hier Ihren Code\n",
    "    h = 0\n",
    "    for i in range(5):\n",
    "        h =+ ((x[0] - S[0,i])**2 + (x[1] - S[1,i])**2 - u[i]**2)**2\n",
    "    value = h\n",
    "    return value\n"
   ]
  },
  {
   "cell_type": "code",
   "execution_count": 13,
   "metadata": {},
   "outputs": [],
   "source": [
    "def h_gradient(x, S, u):\n",
    "    \n",
    "    \"\"\" gradient of objective function in source location problem\n",
    "    \n",
    "    Parameters\n",
    "    ----------\n",
    "    \n",
    "    x: ndarray, shape (2,)\n",
    "        Input argument to h (variable)\n",
    "        \n",
    "    S: ndarray, shape (2,5)\n",
    "        nxm-matrix of sensor locations\n",
    "        one column for each sensor (data)\n",
    "    \n",
    "    u: ndarray, shape (5,)\n",
    "        m-dim. vector of distances (data)\n",
    "        \n",
    "        \n",
    "    Returns\n",
    "    -------\n",
    "    \n",
    "    grad: ndarray, shape (2,)\n",
    "        gradient (with respect to x) of h at x\n",
    "    \n",
    "    \"\"\"\n",
    "    grad = np.zeros(2)\n",
    "    for i in range(5):\n",
    "        grad[0] =+ 4 * (x[0] - S[0,i]) * ((x[0] - S[0,i])**2 + (x[1] - S[1,i])**2 - u[i]**2)\n",
    "        grad[1] =+ 4 * (x[1] - S[1,i]) * ((x[0] - S[0,i])**2 + (x[1] - S[1,i])**2 - u[i]**2)\n",
    "    \n",
    "    return grad\n"
   ]
  },
  {
   "cell_type": "markdown",
   "metadata": {},
   "source": [
    "### Armijo-Schrittweitensteuerung"
   ]
  },
  {
   "cell_type": "markdown",
   "metadata": {},
   "source": [
    "Orientieren Sie sich für Ihre Implementierung der Armijo-Schrittweitensteuerung an der folgenden Vorgabe:"
   ]
  },
  {
   "cell_type": "code",
   "execution_count": 14,
   "metadata": {},
   "outputs": [],
   "source": [
    "def armijo(x, d, obj_fun, sigma, rho, gamma):\n",
    "    \n",
    "    \"\"\" Armijo stepzise for gradient descent\n",
    "    \n",
    "    Parameters\n",
    "    ----------\n",
    "    \n",
    "    x: ndarray\n",
    "        Current iterate of the optimization algorithm.\n",
    "        \n",
    "    d: ndarray\n",
    "        Search direction.\n",
    "    \n",
    "    obj_fun: callable\n",
    "        Objective function to be mimimized. Returns a number.\n",
    "       \n",
    "    sigma: float\n",
    "        Parameter that determines flatness of damped tangent. (0<sigma<1)\n",
    "    \n",
    "    rho: float\n",
    "        Parameter that determines how fast stepsize is decreaded. (0<rho<1)\n",
    "        \n",
    "    gamma: float\n",
    "        Parameter that determines appropriate starting stepsize.\n",
    "        \n",
    "        \n",
    "    Returns\n",
    "    -------\n",
    "    \n",
    "    t: float\n",
    "        Armijo stepsize.\n",
    "    \n",
    "    \"\"\"\n",
    "    \n",
    "    f_value = obj_fun(x) # Funktionswert am Punkt x auswerten\n",
    "    t =  gamma  # Start-Schrittweite (t_0 in Algorithmus 2.4)\n",
    "    x_trial = x + t * d # Schritt in Richtung d mit Schrittweite t\n",
    "    f_trial = obj_fun(x_trial) # Funktionswert am Punkt x_trial\n",
    "    while f_trial > (f_value - t * sigma * (np.linalg.norm(d)**2)): # Abbruchkriterium ergänzen:\n",
    "        t = rho * t # Schrittweite updaten\n",
    "        x_trial = x + t * d # Schritt in Richtung d mit neuer Schrittweite t\n",
    "        \n",
    "        f_trial = obj_fun(x_trial) # Funktionswert am neuen Punkt x_trial\n",
    "        \n",
    "    if np.linalg.norm(t*d) < 10**(-14):\n",
    "        t = 10**(-7)\n",
    "        \n",
    "    return t"
   ]
  },
  {
   "cell_type": "markdown",
   "metadata": {},
   "source": [
    "Die \"if-Bedingung\" in der obigen Implementierung der Armijo-Regel taucht in Algorithmus 2.4 im Buch nicht auf und ist aus theoretischer Sicht nicht notwendig. In dieser Sonderübung verhindern wir damit, dass der Algorithmus eine zu kleine Schrittweite zurückliefert."
   ]
  },
  {
   "cell_type": "markdown",
   "metadata": {},
   "source": [
    "### Gradientenverfahren"
   ]
  },
  {
   "cell_type": "markdown",
   "metadata": {},
   "source": [
    "Ihre Implementierung des Gradientenverfahrens (Algorithmus 2.5 im Buch) soll den Namen <b>gradientDescent</b> haben und folgendermaßen aufgerufen werden können:"
   ]
  },
  {
   "cell_type": "code",
   "execution_count": 19,
   "metadata": {},
   "outputs": [],
   "source": [
    "x_crit, h_crit, k, runtime = gradientDescent(h_val, h_grad, armijo_rule, x_0, tol)"
   ]
  },
  {
   "cell_type": "markdown",
   "metadata": {},
   "source": [
    "Für diesen Aufruf müssen zuvor die Funktionen <b>h_val</b> und <b>h_grad</b> definiert worden sein. Diese Funktionen sollen für die aktuelle Iterierte den Zielfunktionswert bzw. den Gradienten der Zielfunktion zurückliefern. Unter Verwendung der \"Lambda-Notation\" definieren Sie also"
   ]
  },
  {
   "cell_type": "code",
   "execution_count": 15,
   "metadata": {},
   "outputs": [],
   "source": [
    "h_val = lambda x: h_value(x, S, u)\n",
    "h_grad = lambda x: h_gradient(x, S, u)"
   ]
  },
  {
   "cell_type": "markdown",
   "metadata": {},
   "source": [
    "Ebenfalls vor dem Aufruf der Funktion <b>gradientDescent</b> müssen noch eine Funktion für die korrekte Schrittweitensteuerung"
   ]
  },
  {
   "cell_type": "code",
   "execution_count": 16,
   "metadata": {},
   "outputs": [],
   "source": [
    "sigma = 0.2\n",
    "rho = 0.5\n",
    "gamma = 2\n",
    "armijo_rule = lambda x, d: armijo(x, d, h_val, sigma, rho, gamma)"
   ]
  },
  {
   "cell_type": "markdown",
   "metadata": {},
   "source": [
    "sowie die noch fehlenden Parameter"
   ]
  },
  {
   "cell_type": "code",
   "execution_count": 17,
   "metadata": {},
   "outputs": [],
   "source": [
    "tol = 1e-4 \n",
    "x_0 = np.zeros(2)"
   ]
  },
  {
   "cell_type": "markdown",
   "metadata": {},
   "source": [
    "definiert werden."
   ]
  },
  {
   "cell_type": "markdown",
   "metadata": {},
   "source": [
    "Orientieren Sie sich für Ihre Implementierung des Gradientenverfahrens an der folgenden Vorgabe:"
   ]
  },
  {
   "cell_type": "code",
   "execution_count": 18,
   "metadata": {},
   "outputs": [],
   "source": [
    "def gradientDescent(obj_fun , grad_fun , line_search, x_0, epsilon):\n",
    "\n",
    "    \"\"\" classical gradient descent\n",
    "    \n",
    "    Input\n",
    "    ----------\n",
    "    \n",
    "    obj_fun: callable\n",
    "        Objective function to be mimimized.\n",
    "            Input: ndarray, \n",
    "            Output: float\n",
    "        \n",
    "    grad_fun: callable\n",
    "        Gradient of objective function.\n",
    "            Input: ndarray, \n",
    "            Output: ndarray, \n",
    "    \n",
    "    line_search: callable\n",
    "        Line-search procedure to be used in the algorithm.\n",
    "            Input: x: ndarray\n",
    "                    Starting point of the method.\n",
    "                   d: ndarray\n",
    "                    Starting direction of the method (negative gradient). \n",
    "            Output: float\n",
    "        \n",
    "    x_0: ndarray\n",
    "        Starting point of the method.\n",
    "       \n",
    "    epsilon: float\n",
    "        Tolerance for the termination of the method.\n",
    "        \n",
    "        \n",
    "    Output\n",
    "    -------\n",
    "    \n",
    "    x_crit: ndarray\n",
    "        Approx. of a critical point of the objective function.\n",
    "    \n",
    "    f_crit: float\n",
    "        Objective value at x_opt\n",
    "        \n",
    "    k: int\n",
    "        Number of iterations.\n",
    "        \n",
    "    runtime: float\n",
    "        Runtime of the algorithm.\n",
    "    \n",
    "    \"\"\"\n",
    "    \n",
    "    start_time = time.time()\n",
    "    k = 0\n",
    "    x = x_0\n",
    "    f_grad = grad_fun(x) # Gradienten von f an x auswerten\n",
    "    d = -1 * f_grad # Suchrichtung ergänzen\n",
    "    while (np.linalg.norm(f_grad)) > epsilon: # Abbruchkriterium ergänzen\n",
    "        t = line_search(x,d) # Schrittweite bestimmen\n",
    "        x = x + t*d # Update der aktuellen Iterierten\n",
    "        f_grad = grad_fun(x) # Gradient von f an neuer Iterierter\n",
    "        d = -1* f_grad # Suchrichtung ergänzen\n",
    "        k += 1\n",
    "    x_crit = x # Approximation eines kritischen Punktes\n",
    "    f_crit = obj_fun(x) # Zielfunktionswert an der Approximation\n",
    "    runtime = time.time() - start_time # Laufzeit des Verfahrens\n",
    "    return x_crit, f_crit, k, runtime\n",
    "#"
   ]
  },
  {
   "cell_type": "markdown",
   "metadata": {},
   "source": [
    "Werden die Funktionen <b>h_val</b>, <b>h_grad</b> und <b>armijo_rule</b> wie oben mit Hilfe der \"lambda-Notation\" definiert, müssen die Daten $S$ und $u$ nicht extra an das Gradientenverfahren übergeben werden. Die Funktionen können im Gradientenverfahren einfach mit"
   ]
  },
  {
   "cell_type": "code",
   "execution_count": null,
   "metadata": {},
   "outputs": [],
   "source": [
    "obj_func(x)\n",
    "grad_func(x)\n",
    "line_search(x, d)"
   ]
  },
  {
   "cell_type": "code",
   "execution_count": 20,
   "metadata": {},
   "outputs": [
    {
     "name": "stdout",
     "output_type": "stream",
     "text": [
      "[array([0.17769505, 0.44632558]), 4.536751035597099e-13, 6, 0.012340068817138672]\n",
      "66.27729617556855\n",
      "4.536751035597099e-13\n"
     ]
    }
   ],
   "source": [
    "print([x_crit, h_crit, k, runtime])\n",
    "print(h_val(np.zeros(2)))\n",
    "print(h_val(x_crit))"
   ]
  },
  {
   "cell_type": "markdown",
   "metadata": {},
   "source": [
    "aufgerufen werden."
   ]
  }
 ],
 "metadata": {
  "kernelspec": {
   "display_name": "Python 3",
   "language": "python",
   "name": "python3"
  },
  "language_info": {
   "codemirror_mode": {
    "name": "ipython",
    "version": 3
   },
   "file_extension": ".py",
   "mimetype": "text/x-python",
   "name": "python",
   "nbconvert_exporter": "python",
   "pygments_lexer": "ipython3",
   "version": "3.8.5"
  }
 },
 "nbformat": 4,
 "nbformat_minor": 2
}
